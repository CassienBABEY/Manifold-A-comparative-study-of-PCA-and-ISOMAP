{
 "cells": [
  {
   "cell_type": "code",
   "execution_count": 1,
   "id": "1f758a8c",
   "metadata": {
    "ExecuteTime": {
     "end_time": "2023-10-21T00:09:08.056167Z",
     "start_time": "2023-10-21T00:09:07.300237Z"
    }
   },
   "outputs": [],
   "source": [
    "from sklearn.model_selection import train_test_split\n",
    "from sklearn.neighbors import KNeighborsClassifier\n",
    "from sklearn.decomposition import PCA\n",
    "from sklearn.manifold import Isomap\n",
    "from sklearn.metrics import mean_squared_error\n",
    "from scipy.spatial import distance\n",
    "import matplotlib.pyplot as plt\n",
    "from sklearn.pipeline import Pipeline\n",
    "from sklearn.model_selection import GridSearchCV\n",
    "import pandas as pd\n",
    "import matplotlib.gridspec as gridspec\n",
    "import numpy as np\n",
    "from sklearn.model_selection import cross_validate, cross_val_score\n",
    "import coranking\n",
    "from coranking.metrics import trustworthiness, continuity"
   ]
  },
  {
   "cell_type": "code",
   "execution_count": 2,
   "id": "6dc8a289",
   "metadata": {
    "ExecuteTime": {
     "end_time": "2023-10-21T00:09:08.873386Z",
     "start_time": "2023-10-21T00:09:08.867594Z"
    }
   },
   "outputs": [],
   "source": [
    "import struct\n",
    "import numpy as np\n",
    "from sklearn.utils import shuffle\n",
    "\n",
    "def load_mnist(n_samples=1000):\n",
    "    ''' Gets the MNIST dataset. Returns a tuple (data, target) containing the dataset and the labels.\n",
    "\n",
    "        data:   The 1000 x 784 data matrix containing the images. (n_samples = 1000, n_features =784)\n",
    "        target: The 1000 x 1 label vector containing the labels for the images\n",
    "\n",
    "        http://yann.lecun.com/exdb/mnist/\n",
    "        \n",
    "        NOTE: The dataset consists of 60.000 training images and 10.000 test images.\n",
    "    '''\n",
    "    # 1) Download at least the two training .gz from http://yann.lecun.com/exdb/mnist/\n",
    "    # 2) Don't rename them\n",
    "    # 3) Unpack them to the path 'Datasets/MNIST/'\n",
    "    X_train_all = read_idx('data/train-images.idx3-ubyte') # load training images\n",
    "    X_train_all = np.reshape(X_train_all, (60000, 784))\n",
    "    Y_train_all = read_idx('data/train-labels.idx1-ubyte') # load training labels\n",
    "    X_train, Y_train = shuffle(X_train_all, Y_train_all, n_samples=n_samples, random_state=1)\n",
    "    return X_train, Y_train\n",
    "\n",
    "def read_idx(filename):\n",
    "    \"\"\" A function that can read MNIST's idx file format into numpy arrays.\n",
    "        Credits to https://gist.github.com/tylerneylon/ce60e8a06e7506ac45788443f7269e40\n",
    "    \"\"\"\n",
    "    with open(filename, 'rb') as f:\n",
    "        zero, data_type, dims = struct.unpack('>HBB', f.read(4))\n",
    "        shape = tuple(struct.unpack('>I', f.read(4))[0] for d in range(dims))\n",
    "        return np.frombuffer(f.read(), dtype=np.uint8).reshape(shape)"
   ]
  },
  {
   "cell_type": "code",
   "execution_count": 13,
   "id": "66bc4d8a",
   "metadata": {
    "ExecuteTime": {
     "end_time": "2023-10-21T00:18:47.722772Z",
     "start_time": "2023-10-21T00:18:47.523849Z"
    }
   },
   "outputs": [],
   "source": [
    "X, y = load_mnist(n_samples=5000)"
   ]
  },
  {
   "cell_type": "code",
   "execution_count": 14,
   "id": "c057ba22",
   "metadata": {
    "ExecuteTime": {
     "end_time": "2023-10-21T00:18:48.663158Z",
     "start_time": "2023-10-21T00:18:48.659711Z"
    }
   },
   "outputs": [],
   "source": [
    "def NN_generalization_error(X, labels):\n",
    "    '''Train 1-NN classifier on the training set of the low-dim data,\n",
    "    and evaluate on the test set to get the error (1-accuracy).\n",
    "    '''\n",
    "    clf = KNeighborsClassifier(n_neighbors=1)\n",
    "    # 5-fold cross-validation averaged accuracy\n",
    "    avg_accuracy = cross_val_score(clf, X[:, :2], labels, cv=5).mean()\n",
    "    error = 1 - avg_accuracy\n",
    "    return error"
   ]
  },
  {
   "cell_type": "code",
   "execution_count": 15,
   "id": "852d3cbe",
   "metadata": {
    "ExecuteTime": {
     "end_time": "2023-10-21T00:18:49.143008Z",
     "start_time": "2023-10-21T00:18:49.138823Z"
    }
   },
   "outputs": [],
   "source": [
    "def discretize_labels(sort_values, bins=5):\n",
    "    bin_edges = np.linspace(sort_values.min(), sort_values.max(), bins)\n",
    "    bin_edges[-1] += 1e-5  # Ajouter un petit écart à la limite supérieure pour éviter d'isoler un point\n",
    "    return np.digitize(sort_values, bin_edges)"
   ]
  },
  {
   "cell_type": "code",
   "execution_count": 16,
   "id": "237a2d52",
   "metadata": {
    "ExecuteTime": {
     "end_time": "2023-10-21T00:18:49.835744Z",
     "start_time": "2023-10-21T00:18:49.824221Z"
    }
   },
   "outputs": [],
   "source": [
    "def apply_and_evaluate(X, _):\n",
    "    # Initial setup\n",
    "    results = []\n",
    "\n",
    "    # Trier les données selon la troisième colonne\n",
    "    sorted_indices = np.argsort(_)\n",
    "    X = X = X[sorted_indices]\n",
    "\n",
    "    # Discretiser les étiquettes après le tri\n",
    "    y = discretize_labels(_[sorted_indices])\n",
    "    \n",
    "    # Apply PCA\n",
    "    pca = PCA(n_components=20)\n",
    "    X_pca = pca.fit_transform(X)\n",
    "    \n",
    "    # Evaluate k-NN with PCA\n",
    "    pca_error = NN_generalization_error(X_pca, y)\n",
    "\n",
    "    # Apply Isomap with GridSearchCV\n",
    "    isomap_knn_pipeline = Pipeline([\n",
    "        ('isomap', Isomap(n_components=20)),\n",
    "        ('knn', KNeighborsClassifier(n_neighbors=1))\n",
    "    ])\n",
    "    param_grid = {'isomap__n_neighbors': [10, 15, 20, 25, 30, 35, 40, 45, 50]}\n",
    "    grid_search = GridSearchCV(isomap_knn_pipeline, param_grid, cv=5, n_jobs=-1)\n",
    "    grid_search.fit(X, y)\n",
    "    best_n_neighbors = grid_search.best_params_['isomap__n_neighbors']\n",
    "    best_isomap = Isomap(n_components=2, n_neighbors=best_n_neighbors)\n",
    "    X_isomap = best_isomap.fit_transform(X)\n",
    "    \n",
    "    # Evaluate k-NN with best Isomap\n",
    "    isomap_error = NN_generalization_error(X_isomap, y)\n",
    "    \n",
    "    # Trustworthiness and Continuity for PCA\n",
    "    Q_pca = coranking.coranking_matrix(X, X_pca)\n",
    "    trustworthiness_pca = trustworthiness(Q_pca, min_k=12, max_k=13)[0]\n",
    "    continuity_pca = continuity(Q_pca,min_k=12, max_k=13)[0]\n",
    "    results.append(['PCA', pca_error, trustworthiness_pca, continuity_pca])\n",
    "\n",
    "    # Trustworthiness and Continuity for Isomap\n",
    "    Q_isomap = coranking.coranking_matrix(X, X_isomap)\n",
    "    trustworthiness_isomap = trustworthiness(Q_isomap, min_k=12, max_k=13)[0]\n",
    "    continuity_isomap = continuity(Q_isomap, min_k=12, max_k=13)[0]\n",
    "    results.append(['Isomap', isomap_error, trustworthiness_isomap, continuity_isomap])\n",
    "\n",
    "    # Create DataFrame\n",
    "    df = pd.DataFrame(results, columns=[\"Model\", \"Classification Error\", \"Trustworthiness\", \"Continuity\"])\n",
    "\n",
    "    return df"
   ]
  },
  {
   "cell_type": "code",
   "execution_count": 18,
   "id": "44e3d4c2",
   "metadata": {
    "ExecuteTime": {
     "end_time": "2023-10-21T17:47:50.453516Z",
     "start_time": "2023-10-21T17:37:20.265028Z"
    }
   },
   "outputs": [
    {
     "data": {
      "text/html": [
       "<div>\n",
       "<style scoped>\n",
       "    .dataframe tbody tr th:only-of-type {\n",
       "        vertical-align: middle;\n",
       "    }\n",
       "\n",
       "    .dataframe tbody tr th {\n",
       "        vertical-align: top;\n",
       "    }\n",
       "\n",
       "    .dataframe thead th {\n",
       "        text-align: right;\n",
       "    }\n",
       "</style>\n",
       "<table border=\"1\" class=\"dataframe\">\n",
       "  <thead>\n",
       "    <tr style=\"text-align: right;\">\n",
       "      <th></th>\n",
       "      <th>Model</th>\n",
       "      <th>Classification Error</th>\n",
       "      <th>Trustworthiness</th>\n",
       "      <th>Continuity</th>\n",
       "    </tr>\n",
       "  </thead>\n",
       "  <tbody>\n",
       "    <tr>\n",
       "      <th>0</th>\n",
       "      <td>PCA</td>\n",
       "      <td>0.5392</td>\n",
       "      <td>0.997580</td>\n",
       "      <td>0.998778</td>\n",
       "    </tr>\n",
       "    <tr>\n",
       "      <th>1</th>\n",
       "      <td>Isomap</td>\n",
       "      <td>0.5046</td>\n",
       "      <td>0.759299</td>\n",
       "      <td>0.939698</td>\n",
       "    </tr>\n",
       "  </tbody>\n",
       "</table>\n",
       "</div>"
      ],
      "text/plain": [
       "    Model  Classification Error  Trustworthiness  Continuity\n",
       "0     PCA                0.5392         0.997580    0.998778\n",
       "1  Isomap                0.5046         0.759299    0.939698"
      ]
     },
     "execution_count": 18,
     "metadata": {},
     "output_type": "execute_result"
    }
   ],
   "source": [
    "apply_and_evaluate(X,y)"
   ]
  },
  {
   "cell_type": "code",
   "execution_count": null,
   "id": "023adbac",
   "metadata": {},
   "outputs": [],
   "source": []
  }
 ],
 "metadata": {
  "kernelspec": {
   "display_name": "Python 3 (ipykernel)",
   "language": "python",
   "name": "python3"
  },
  "language_info": {
   "codemirror_mode": {
    "name": "ipython",
    "version": 3
   },
   "file_extension": ".py",
   "mimetype": "text/x-python",
   "name": "python",
   "nbconvert_exporter": "python",
   "pygments_lexer": "ipython3",
   "version": "3.10.9"
  },
  "toc": {
   "base_numbering": 1,
   "nav_menu": {},
   "number_sections": true,
   "sideBar": true,
   "skip_h1_title": false,
   "title_cell": "Table of Contents",
   "title_sidebar": "Contents",
   "toc_cell": false,
   "toc_position": {},
   "toc_section_display": true,
   "toc_window_display": false
  },
  "varInspector": {
   "cols": {
    "lenName": 16,
    "lenType": 16,
    "lenVar": 40
   },
   "kernels_config": {
    "python": {
     "delete_cmd_postfix": "",
     "delete_cmd_prefix": "del ",
     "library": "var_list.py",
     "varRefreshCmd": "print(var_dic_list())"
    },
    "r": {
     "delete_cmd_postfix": ") ",
     "delete_cmd_prefix": "rm(",
     "library": "var_list.r",
     "varRefreshCmd": "cat(var_dic_list()) "
    }
   },
   "types_to_exclude": [
    "module",
    "function",
    "builtin_function_or_method",
    "instance",
    "_Feature"
   ],
   "window_display": false
  }
 },
 "nbformat": 4,
 "nbformat_minor": 5
}
